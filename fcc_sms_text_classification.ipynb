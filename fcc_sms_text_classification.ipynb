{
  "cells": [
    {
      "cell_type": "markdown",
      "metadata": {
        "id": "8RZOuS9LWQvv"
      },
      "source": [
        "This is SMS_text_Classifier for determining whether a message is spam or ham"
      ]
    },
    {
      "cell_type": "code",
      "execution_count": 1,
      "metadata": {},
      "outputs": [],
      "source": [
        "#Importing the necessary modules\n",
        "import pandas as pd\n",
        "import numpy as np\n",
        "import matplotlib.pyplot as plt\n",
        "from sklearn.feature_extraction.text import TfidfVectorizer"
      ]
    },
    {
      "cell_type": "code",
      "execution_count": 2,
      "metadata": {},
      "outputs": [],
      "source": [
        "\n",
        "from sklearn.metrics import confusion_matrix ,classification_report\n",
        "from sklearn.naive_bayes import GaussianNB\n",
        "from sklearn.model_selection import GridSearchCV,KFold\n"
      ]
    },
    {
      "cell_type": "code",
      "execution_count": 3,
      "metadata": {
        "id": "lMHwYXHXCar3"
      },
      "outputs": [],
      "source": [
        "# get data files\n",
        "#!wget https://cdn.freecodecamp.org/project-data/sms/train-data.tsv\n",
        "#!wget https://cdn.freecodecamp.org/project-data/sms/valid-data.tsv\n",
        "\n",
        "train_file_path = \"train-data.tsv\"\n",
        "test_file_path = \"valid-data.tsv\""
      ]
    },
    {
      "cell_type": "markdown",
      "metadata": {},
      "source": [
        "Read data from the 'tsv'file using pandas and specifying the seperator as tab"
      ]
    },
    {
      "cell_type": "code",
      "execution_count": 4,
      "metadata": {
        "id": "g_h508FEClxO"
      },
      "outputs": [],
      "source": [
        "train_data = pd.read_csv(train_file_path,sep='\\t',names=['Label','message'])\n",
        "test_data  = pd.read_csv(test_file_path,sep='\\t',names=['Label','message'])"
      ]
    },
    {
      "cell_type": "code",
      "execution_count": 5,
      "metadata": {
        "id": "zOMKywn4zReN"
      },
      "outputs": [
        {
          "name": "stdout",
          "output_type": "stream",
          "text": [
            "Test: (1392, 2) Train: (4179, 2)\n"
          ]
        }
      ],
      "source": [
        "#Shape of both train and Test data\n",
        "print(\"Test:\",test_data.shape,'Train:',train_data.shape)"
      ]
    },
    {
      "cell_type": "code",
      "execution_count": 6,
      "metadata": {},
      "outputs": [],
      "source": [
        "train_data['Label'] = train_data['Label'].map({'ham':0,'spam':1}).astype(int)\n",
        "test_data['Label'] = test_data['Label'].map({'ham':0,'spam':1}).astype(int)\n",
        "X_train = train_data['message']\n",
        "X_test = test_data['message']"
      ]
    },
    {
      "cell_type": "markdown",
      "metadata": {},
      "source": [
        "Using TfidfVectorizer for vectorization(text_to_numeric form on the avaliable sms messages)"
      ]
    },
    {
      "cell_type": "code",
      "execution_count": 7,
      "metadata": {},
      "outputs": [],
      "source": [
        "Vectorizer = TfidfVectorizer(stop_words='english',lowercase=True)\n",
        "X_train_V = Vectorizer.fit_transform(X_train).toarray()\n",
        "X_test_V = Vectorizer.transform(X_test).toarray()"
      ]
    },
    {
      "cell_type": "code",
      "execution_count": 8,
      "metadata": {},
      "outputs": [],
      "source": [
        "Y_train = train_data.pop('Label')\n",
        "Y_test = test_data.pop('Label')"
      ]
    },
    {
      "cell_type": "markdown",
      "metadata": {},
      "source": [
        "Performing Crossing Validation  using the GridSearchCV in order to determine the best parameter for my Model"
      ]
    },
    {
      "cell_type": "code",
      "execution_count": 10,
      "metadata": {},
      "outputs": [
        {
          "name": "stdout",
          "output_type": "stream",
          "text": [
            "Best Paramater: {'var_smoothing': 1} Best score: 0.9700893905967968\n"
          ]
        }
      ],
      "source": [
        "#Using GaussianNaivebayes algorithm \n",
        "kf = KFold(n_splits=5,shuffle=True,random_state=42)\n",
        "params = {'var_smoothing':[1,1e-1,1e-2,1e-3,1e-4,1e-5,1e-6,1e-7,1e-8,1e-9]}\n",
        "model=GaussianNB()\n",
        "model_cv = GridSearchCV(model,param_grid=params,cv=kf)\n",
        "model_cv.fit(X_train_V,Y_train)\n",
        "print(\"Best Paramater:\",model_cv.best_params_,'Best score:',model_cv.best_score_)"
      ]
    },
    {
      "cell_type": "code",
      "execution_count": 11,
      "metadata": {},
      "outputs": [
        {
          "name": "stdout",
          "output_type": "stream",
          "text": [
            "              precision    recall  f1-score   support\n",
            "\n",
            "           0       0.99      0.98      0.99      1205\n",
            "           1       0.89      0.95      0.92       187\n",
            "\n",
            "    accuracy                           0.98      1392\n",
            "   macro avg       0.94      0.96      0.95      1392\n",
            "weighted avg       0.98      0.98      0.98      1392\n",
            "\n",
            "[[1183   22]\n",
            " [  10  177]]\n"
          ]
        }
      ],
      "source": [
        "y_predict = model_cv.predict(X_test_V)\n",
        "print(classification_report(Y_test,y_predict))\n",
        "print(confusion_matrix(Y_test,y_predict))"
      ]
    },
    {
      "cell_type": "code",
      "execution_count": 12,
      "metadata": {
        "id": "J9tD9yACG6M9"
      },
      "outputs": [
        {
          "name": "stdout",
          "output_type": "stream",
          "text": [
            "0.9961183508119763\n",
            "[0.9961183508119763, 'spam']\n"
          ]
        }
      ],
      "source": [
        "# function to predict messages based on model\n",
        "# (should return list containing prediction and label, ex. [0.008318834938108921, 'ham'])\n",
        "def predict_message(pred_text):\n",
        "  prediction =[]\n",
        "  #convert text to numeric\n",
        "  Pred = Vectorizer.transform([pred_text]).toarray()\n",
        "  predicts = model_cv.predict_proba(Pred)[0][1]\n",
        "  print(predicts)\n",
        "  if predicts < 0.5:\n",
        "    prediction.append(predicts)\n",
        "    prediction.append('ham')\n",
        "  else:\n",
        "    prediction.append(predicts)\n",
        "    prediction.append('spam')\n",
        "  return (prediction)\n",
        "\n",
        "pred_text = \"our new mobile video service is live. just install on your phone to start watching.\"\n",
        "\n",
        "prediction = predict_message(pred_text)\n",
        "print(prediction)"
      ]
    },
    {
      "cell_type": "code",
      "execution_count": 13,
      "metadata": {
        "id": "Dxotov85SjsC"
      },
      "outputs": [
        {
          "name": "stdout",
          "output_type": "stream",
          "text": [
            "4.865352335313476e-05\n",
            "0.8883310592335809\n",
            "0.004020306098239279\n",
            "0.9961183508119763\n",
            "0.9999993593484993\n",
            "0.0025667502815766513\n",
            "0.011514164620051004\n",
            "You passed the challenge. Great job!\n"
          ]
        }
      ],
      "source": [
        "# Run this cell to test your function and model. Do not modify contents.\n",
        "def test_predictions():\n",
        "  test_messages = [\"how are you doing today\",\n",
        "                   \"sale today! to stop texts call 98912460324\",\n",
        "                   \"i dont want to go. can we try it a different day? available sat\",\n",
        "                   \"our new mobile video service is live. just install on your phone to start watching.\",\n",
        "                   \"you have won £1000 cash! call to claim your prize.\",\n",
        "                   \"i'll bring it tomorrow. don't forget the milk.\",\n",
        "                   \"wow, is your arm alright. that happened to me one time too\"\n",
        "                  ]\n",
        "\n",
        "  test_answers = [\"ham\", \"spam\", \"ham\", \"spam\", \"spam\", \"ham\", \"ham\"]\n",
        "  passed = True\n",
        "\n",
        "  for msg, ans in zip(test_messages, test_answers):\n",
        "    prediction = predict_message(msg)\n",
        "    if prediction[1] != ans:\n",
        "      passed = False\n",
        "\n",
        "  if passed:\n",
        "    print(\"You passed the challenge. Great job!\")\n",
        "  else:\n",
        "    print(\"You haven't passed yet. Keep trying.\")\n",
        "\n",
        "test_predictions()\n"
      ]
    }
  ],
  "metadata": {
    "colab": {
      "name": "fcc_sms_text_classification.ipynb",
      "private_outputs": true,
      "provenance": [],
      "toc_visible": true
    },
    "kernelspec": {
      "display_name": "Python 3",
      "name": "python3"
    },
    "language_info": {
      "codemirror_mode": {
        "name": "ipython",
        "version": 3
      },
      "file_extension": ".py",
      "mimetype": "text/x-python",
      "name": "python",
      "nbconvert_exporter": "python",
      "pygments_lexer": "ipython3",
      "version": "3.10.11"
    }
  },
  "nbformat": 4,
  "nbformat_minor": 0
}
